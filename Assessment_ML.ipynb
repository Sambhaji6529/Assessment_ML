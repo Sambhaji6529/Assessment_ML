{
  "nbformat": 4,
  "nbformat_minor": 0,
  "metadata": {
    "colab": {
      "provenance": [],
      "authorship_tag": "ABX9TyMMN41xg6JEuZFQzSBPbdYh",
      "include_colab_link": true
    },
    "kernelspec": {
      "name": "python3",
      "display_name": "Python 3"
    },
    "language_info": {
      "name": "python"
    }
  },
  "cells": [
    {
      "cell_type": "markdown",
      "metadata": {
        "id": "view-in-github",
        "colab_type": "text"
      },
      "source": [
        "<a href=\"https://colab.research.google.com/github/Sambhaji6529/Assessment_ML/blob/main/Assessment_ML.ipynb\" target=\"_parent\"><img src=\"https://colab.research.google.com/assets/colab-badge.svg\" alt=\"Open In Colab\"/></a>"
      ]
    },
    {
      "cell_type": "code",
      "source": [
        "import random\n",
        "import matplotlib.pyplot as plt\n",
        "import matplotlib.patches as patches\n",
        "\n",
        "# Define the rectangle class\n",
        "class Rectangle:\n",
        "    def __init__(self, width, height):\n",
        "        self.width = width\n",
        "        self.height = height\n",
        "        self.x = None\n",
        "        self.y = None\n",
        "        self.rotated = False\n",
        "\n",
        "    def rotate(self):\n",
        "        self.width, self.height = self.height, self.width\n",
        "        self.rotated = not self.rotated\n",
        "\n",
        "# Recursive partitioning function\n",
        "def place_rectangle(rect, space):\n",
        "    x, y, w, h = space\n",
        "\n",
        "    # Check if the rectangle fits in the current space with 1-unit separation\n",
        "    if rect.width + 1 <= w and rect.height + 1 <= h:\n",
        "        rect.x, rect.y = x + 1, y + 1  # Account for the separation\n",
        "        return True\n",
        "    elif rect.height + 1 <= w and rect.width + 1 <= h:\n",
        "        rect.rotate()\n",
        "        rect.x, rect.y = x + 1, y + 1  # Account for the separation\n",
        "        return True\n",
        "    else:\n",
        "        return False\n",
        "\n",
        "def divide_and_conquer(ax, rectangles, space):\n",
        "    if not rectangles:\n",
        "        return True\n",
        "\n",
        "    rect = rectangles[0]\n",
        "    x, y, w, h = space\n",
        "\n",
        "    # Try placing the current rectangle\n",
        "    if place_rectangle(rect, space):\n",
        "        # Draw the rectangle\n",
        "        rect_patch = patches.Rectangle((rect.x, rect.y), rect.width, rect.height, linewidth=1, edgecolor='r', facecolor='none')\n",
        "        ax.add_patch(rect_patch)\n",
        "\n",
        "        # Remaining space after placing the rectangle\n",
        "        remaining_rectangles = rectangles[1:]\n",
        "\n",
        "        # Divide the space into two parts:\n",
        "        # 1. To the right of the placed rectangle\n",
        "        if divide_and_conquer(ax, remaining_rectangles, (x + rect.width + 2, y, w - rect.width - 2, h)):\n",
        "            return True\n",
        "\n",
        "        # 2. Below the placed rectangle\n",
        "        if divide_and_conquer(ax, remaining_rectangles, (x, y + rect.height + 2, w, h - rect.height - 2)):\n",
        "            return True\n",
        "\n",
        "        return False\n",
        "    else:\n",
        "        return False\n",
        "\n",
        "# Set up the canvas\n",
        "fig, ax = plt.subplots()\n",
        "ax.set_xlim(0, 100)\n",
        "ax.set_ylim(0, 100)\n",
        "\n",
        "# Generate random rectangles\n",
        "rectangles = [Rectangle(random.randint(10, 30), random.randint(10, 30)) for _ in range(5)]\n",
        "\n",
        "# Start recursive partitioning\n",
        "if not divide_and_conquer(ax, rectangles, (0, 0, 100, 100)):\n",
        "    raise ValueError(\"Placement not possible\")\n",
        "\n",
        "# Display the result\n",
        "plt.gca().set_aspect('equal', adjustable='box')\n",
        "plt.show()\n"
      ],
      "metadata": {
        "colab": {
          "base_uri": "https://localhost:8080/",
          "height": 435
        },
        "id": "PkdCzGoTrltQ",
        "outputId": "47c9a913-c0e1-48f4-e799-a0af91e37447"
      },
      "execution_count": 2,
      "outputs": [
        {
          "output_type": "display_data",
          "data": {
            "text/plain": [
              "<Figure size 640x480 with 1 Axes>"
            ],
            "image/png": "[encoded data removed]"
          },
          "metadata": {}
        }
      ]
    }
  ]
}